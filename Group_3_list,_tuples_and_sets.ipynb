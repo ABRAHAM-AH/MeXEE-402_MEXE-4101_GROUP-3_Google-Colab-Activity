{
  "nbformat": 4,
  "nbformat_minor": 0,
  "metadata": {
    "colab": {
      "provenance": [],
      "include_colab_link": true
    },
    "kernelspec": {
      "name": "python3",
      "display_name": "Python 3"
    },
    "language_info": {
      "name": "python"
    }
  },
  "cells": [
    {
      "cell_type": "markdown",
      "metadata": {
        "id": "view-in-github",
        "colab_type": "text"
      },
      "source": [
        "<a href=\"https://colab.research.google.com/github/ABRAHAM-AH/MeXEE-402_MEXE-4101_GROUP-3_Google-Colab-Activity/blob/main/Group_3_list%2C_tuples_and_sets.ipynb\" target=\"_parent\"><img src=\"https://colab.research.google.com/assets/colab-badge.svg\" alt=\"Open In Colab\"/></a>"
      ]
    },
    {
      "cell_type": "markdown",
      "source": [
        "# Lists, Tuples, Sets and Dictionaries"
      ],
      "metadata": {
        "id": "ti1vSAtgxPBs"
      }
    },
    {
      "cell_type": "markdown",
      "source": [
        "## 1) List"
      ],
      "metadata": {
        "id": "M2gE1q-P0Ce6"
      }
    },
    {
      "cell_type": "code",
      "source": [
        "#List - ordered sequence of elements, always uses [] to represent the list. Each item is seperated by ,.\n",
        "\n",
        "food = [\"pizza\",\"burger\",\"rice\", \"noodles\"]\n",
        "print(food)"
      ],
      "metadata": {
        "id": "a5tVdzOOxY5u"
      },
      "execution_count": null,
      "outputs": []
    },
    {
      "cell_type": "code",
      "source": [
        "print(food[0])"
      ],
      "metadata": {
        "id": "2u-i-fD3ylwe"
      },
      "execution_count": null,
      "outputs": []
    },
    {
      "cell_type": "code",
      "source": [
        "# to add element in list\n",
        "food.append(\"cake\")\n",
        "print(food)"
      ],
      "metadata": {
        "id": "n5qoZ_8dzbdD"
      },
      "execution_count": null,
      "outputs": []
    },
    {
      "cell_type": "code",
      "source": [
        "food.append(\"sandwhich\")\n",
        "print(food)"
      ],
      "metadata": {
        "id": "opSQZhrtR_20"
      },
      "execution_count": null,
      "outputs": []
    },
    {
      "cell_type": "code",
      "source": [
        "food.extend([\"sandwhich\",\"pasta\"])\n",
        "print(food)"
      ],
      "metadata": {
        "id": "vbimiUw0TW7B"
      },
      "execution_count": null,
      "outputs": []
    },
    {
      "cell_type": "code",
      "source": [
        "food.extend([\"sandwhich\",\"pasta\"])\n",
        "food"
      ],
      "metadata": {
        "id": "kydZXgWxTyDS"
      },
      "execution_count": null,
      "outputs": []
    },
    {
      "cell_type": "code",
      "source": [
        "print(food*2)"
      ],
      "metadata": {
        "id": "qI5l2s3FUH1-"
      },
      "execution_count": null,
      "outputs": []
    },
    {
      "cell_type": "code",
      "source": [
        "food + [\"coffee\",\"tea\"]\n",
        "food"
      ],
      "metadata": {
        "id": "vNtTwPcrUMjh"
      },
      "execution_count": null,
      "outputs": []
    },
    {
      "cell_type": "code",
      "source": [
        "food = food + [\"coffee\",\"tea\"]\n",
        "food"
      ],
      "metadata": {
        "id": "XtlnOIUTUjbQ"
      },
      "execution_count": null,
      "outputs": []
    },
    {
      "cell_type": "code",
      "source": [
        "food[1:3]"
      ],
      "metadata": {
        "id": "Xjit92HwUtaI"
      },
      "execution_count": null,
      "outputs": []
    },
    {
      "cell_type": "code",
      "source": [
        "food[3]= 'Sweet'\n",
        "food"
      ],
      "metadata": {
        "id": "BYoI4Ok5VJ9i"
      },
      "execution_count": null,
      "outputs": []
    },
    {
      "cell_type": "code",
      "source": [
        "food.index('cake')"
      ],
      "metadata": {
        "id": "hFu2iN9WVZqA"
      },
      "execution_count": null,
      "outputs": []
    },
    {
      "cell_type": "code",
      "source": [
        "food.insert(3,'Paratha')\n",
        "food"
      ],
      "metadata": {
        "id": "ScpkcjURWe0L"
      },
      "execution_count": null,
      "outputs": []
    },
    {
      "cell_type": "code",
      "source": [
        "drinks = food.remove('tea')\n",
        "print(drinks)"
      ],
      "metadata": {
        "id": "dalogTjeW2y3"
      },
      "execution_count": null,
      "outputs": []
    },
    {
      "cell_type": "code",
      "source": [
        "onlyfood = food.remove('tea')\n",
        "print(onlyfood)"
      ],
      "metadata": {
        "id": "n4ZRLsziXeVW"
      },
      "execution_count": null,
      "outputs": []
    },
    {
      "cell_type": "code",
      "source": [
        "xyz = food.remove(\"coffee\")\n",
        "print(xyz)"
      ],
      "metadata": {
        "id": "1KuY27B6YGYP"
      },
      "execution_count": null,
      "outputs": []
    },
    {
      "cell_type": "code",
      "source": [
        "print(food)"
      ],
      "metadata": {
        "id": "FA2jfe00glTE"
      },
      "execution_count": null,
      "outputs": []
    },
    {
      "cell_type": "code",
      "source": [
        "menu = ['pizza', 'burger', 'rice', 'noodles', 'icecream', 'juice']\n",
        "print(menu)"
      ],
      "metadata": {
        "id": "EpDMLSGeg7Nz"
      },
      "execution_count": null,
      "outputs": []
    },
    {
      "cell_type": "code",
      "source": [
        "print('initial menu', menu)\n",
        "menu.reverse()\n",
        "print('reversed menu', menu)\n",
        "print(type(reversed(menu)))"
      ],
      "metadata": {
        "id": "ZRy6j9ewhxEk"
      },
      "execution_count": null,
      "outputs": []
    },
    {
      "cell_type": "code",
      "source": [
        "print('initial menu', menu)\n",
        "menu.sort()\n",
        "print('sorted menu',menu)"
      ],
      "metadata": {
        "id": "jjB3gt2Ph_Kn"
      },
      "execution_count": null,
      "outputs": []
    },
    {
      "cell_type": "code",
      "source": [
        "del menu[-2]\n",
        "menu"
      ],
      "metadata": {
        "id": "KxELEkuwkItl"
      },
      "execution_count": null,
      "outputs": []
    },
    {
      "cell_type": "code",
      "source": [
        "print(menu[2:4])"
      ],
      "metadata": {
        "id": "hnuXnoujkhzZ"
      },
      "execution_count": null,
      "outputs": []
    },
    {
      "cell_type": "code",
      "source": [
        "menu.remove(['juice','noodles'])\n",
        "print(menu)"
      ],
      "metadata": {
        "id": "9aFg5T_pknOp"
      },
      "execution_count": null,
      "outputs": []
    },
    {
      "cell_type": "code",
      "source": [
        "print(menu)"
      ],
      "metadata": {
        "id": "5798rmI-mYdx"
      },
      "execution_count": null,
      "outputs": []
    },
    {
      "cell_type": "code",
      "source": [
        "menu.remove('juice')\n",
        "print(menu)"
      ],
      "metadata": {
        "id": "xNQnNy8JmlPo"
      },
      "execution_count": null,
      "outputs": []
    },
    {
      "cell_type": "code",
      "source": [
        "print(menu)"
      ],
      "metadata": {
        "id": "gkiyJVTRmyXI"
      },
      "execution_count": null,
      "outputs": []
    },
    {
      "cell_type": "code",
      "source": [
        "menu.remove('icecream','noodles')\n",
        "print(menu)"
      ],
      "metadata": {
        "id": "v9SBUNgeneIx"
      },
      "execution_count": null,
      "outputs": []
    },
    {
      "cell_type": "code",
      "source": [
        "menu_2 = ['pizza','burger', 'rice', 'noodles','icecream']\n",
        "print(menu_2)\n"
      ],
      "metadata": {
        "id": "lYX0SX7wnvK3"
      },
      "execution_count": null,
      "outputs": []
    },
    {
      "cell_type": "code",
      "source": [
        "menu_2.pop()"
      ],
      "metadata": {
        "id": "RQlhx1KNwAh6"
      },
      "execution_count": null,
      "outputs": []
    },
    {
      "cell_type": "code",
      "source": [
        "menu_2.clear()\n",
        "print(menu_2)"
      ],
      "metadata": {
        "id": "gajmuEblwwM7"
      },
      "execution_count": null,
      "outputs": []
    },
    {
      "cell_type": "markdown",
      "source": [
        "## 2) Tuples"
      ],
      "metadata": {
        "id": "hwky--tE0KwQ"
      }
    },
    {
      "cell_type": "code",
      "source": [
        "# Tuples - same as list, both contains sequence of items, mixed data types, and it contains individual elements also it is\n",
        "# immutable, it represents by ().\n",
        "\n",
        "empty = ()\n",
        "print(\"empty tuple\",empty)"
      ],
      "metadata": {
        "id": "4QLYMQPD0O45"
      },
      "execution_count": null,
      "outputs": []
    },
    {
      "cell_type": "code",
      "source": [
        "# to create int tuple\n",
        "int = (2,1,3,4,5)\n",
        "print(int)"
      ],
      "metadata": {
        "id": "_AZ0An_R1mLp"
      },
      "execution_count": null,
      "outputs": []
    },
    {
      "cell_type": "code",
      "source": [
        "#mix tuple\n",
        "mix = (4,\"Python\",4.2)\n",
        "print(mix)"
      ],
      "metadata": {
        "id": "RicoXPtm2Ccw"
      },
      "execution_count": null,
      "outputs": []
    },
    {
      "cell_type": "code",
      "source": [
        "# nested tuple\n",
        "nested = ('python', [\"int\",\"data\",\"float\"], 100)\n",
        "print(nested)"
      ],
      "metadata": {
        "id": "S2X2SFXg2QBo"
      },
      "execution_count": null,
      "outputs": []
    },
    {
      "cell_type": "code",
      "source": [
        "str1 = \"Python Prog\",\n",
        "print(str1)"
      ],
      "metadata": {
        "id": "tJw_qLOH24-X"
      },
      "execution_count": null,
      "outputs": []
    },
    {
      "cell_type": "code",
      "source": [
        "Country = (\"USA\", \"China\", \"Philippine\", \"India\")\n",
        "print(Country)"
      ],
      "metadata": {
        "id": "YkSO3Vk-4ZYA"
      },
      "execution_count": null,
      "outputs": []
    },
    {
      "cell_type": "code",
      "source": [
        "Country[2]=\"Singapore\"\n",
        "print(Country)"
      ],
      "metadata": {
        "id": "pIn4BQ155B7H"
      },
      "execution_count": null,
      "outputs": []
    },
    {
      "cell_type": "code",
      "source": [
        "del Country[1]"
      ],
      "metadata": {
        "id": "3uqgIefn5qU2"
      },
      "execution_count": null,
      "outputs": []
    },
    {
      "cell_type": "code",
      "source": [
        "Country + (\"Singapore\",\"Japan\")\n",
        "print(Country)\n",
        "Country1 = Country + (\"Singapore\",\"Japan\")\n",
        "print(Country1)"
      ],
      "metadata": {
        "id": "W_6Qrzz86JT-"
      },
      "execution_count": null,
      "outputs": []
    },
    {
      "cell_type": "code",
      "source": [
        "Country1.count('China')"
      ],
      "metadata": {
        "id": "kRsdzN2BPCsv"
      },
      "execution_count": null,
      "outputs": []
    },
    {
      "cell_type": "code",
      "source": [
        "ex1 = ('a','p','y','t','h','o','n','a','y')\n",
        "print(ex1.count('a'))"
      ],
      "metadata": {
        "id": "AdnNhfK1P5Dr"
      },
      "execution_count": null,
      "outputs": []
    },
    {
      "cell_type": "code",
      "source": [
        "print(ex1.index('y'))"
      ],
      "metadata": {
        "id": "cMfcFaHgQXxp"
      },
      "execution_count": null,
      "outputs": []
    },
    {
      "cell_type": "code",
      "source": [
        "# to check an item available in tuple or not\n",
        "print(\"Australia\" in Country1)"
      ],
      "metadata": {
        "id": "6Ek4HcHPQinS"
      },
      "execution_count": null,
      "outputs": []
    },
    {
      "cell_type": "code",
      "source": [
        "print(\"Singapore\" in Country1)"
      ],
      "metadata": {
        "id": "L14z5sKtSNC7"
      },
      "execution_count": null,
      "outputs": []
    },
    {
      "cell_type": "code",
      "source": [
        "del Country1"
      ],
      "metadata": {
        "id": "kLfHSVK8TH2r"
      },
      "execution_count": null,
      "outputs": []
    },
    {
      "cell_type": "code",
      "source": [
        "print(Country1)"
      ],
      "metadata": {
        "id": "V-zthevqU4pl"
      },
      "execution_count": null,
      "outputs": []
    },
    {
      "cell_type": "code",
      "source": [],
      "metadata": {
        "id": "LhrwhyB-U7fP"
      },
      "execution_count": null,
      "outputs": []
    },
    {
      "cell_type": "markdown",
      "source": [
        "## 3. Sets"
      ],
      "metadata": {
        "id": "66jlT40TU_U3"
      }
    },
    {
      "cell_type": "code",
      "source": [
        "# Sets - collection of items which are not in order\n",
        "# but we cannot change the items in set but we can the add or remove\n",
        "# Elements cannot be duplicated\n",
        "# also there is no indexing or slicing\n",
        "# useig {}, Union, Intersections, difference"
      ],
      "metadata": {
        "id": "MbFO7wx1VJ0G"
      },
      "execution_count": null,
      "outputs": []
    },
    {
      "cell_type": "code",
      "source": [
        "temp = [['Mary',101,26],\n",
        "        ['Alex',102,27]]\n",
        "print(temp)"
      ],
      "metadata": {
        "id": "02c4dL0uXisL"
      },
      "execution_count": null,
      "outputs": []
    },
    {
      "cell_type": "code",
      "source": [
        "countries = {'USA', 'China', 'Philippine', 'India', 'Singapore', 'Japan'}\n",
        "print(countries)\n",
        "print(type(countries))"
      ],
      "metadata": {
        "id": "yVmA1me7YDgh"
      },
      "execution_count": null,
      "outputs": []
    },
    {
      "cell_type": "code",
      "source": [
        "print(len(countries))"
      ],
      "metadata": {
        "id": "XXD_T2q4YmBj"
      },
      "execution_count": null,
      "outputs": []
    },
    {
      "cell_type": "code",
      "source": [
        "# adding an element\n",
        "countries.add(\"Germany\")\n",
        "print(countries)"
      ],
      "metadata": {
        "id": "DiAaWRmlR1j7"
      },
      "execution_count": null,
      "outputs": []
    },
    {
      "cell_type": "code",
      "source": [
        "#deleting the element\n",
        "countries.discard(\"Germany\")\n",
        "print(countries)"
      ],
      "metadata": {
        "id": "Hu5rsg58SOSg"
      },
      "execution_count": null,
      "outputs": []
    },
    {
      "cell_type": "code",
      "source": [
        "# Other Sets Operations\n",
        "country_1 = {'USA', 'China', 'India', 'Japan', 'Singapore', 'Philippine'}\n",
        "country_2 = {\"India\",'Singapore','Germany','Indonesia'}\n",
        "Setof_Country= country_1.union(country_2)\n",
        "print(Setof_Country)"
      ],
      "metadata": {
        "id": "vgpb61sQSvy7"
      },
      "execution_count": null,
      "outputs": []
    },
    {
      "cell_type": "code",
      "source": [
        "print(country_1 | country_2)"
      ],
      "metadata": {
        "id": "wTHy3meVT-L_"
      },
      "execution_count": null,
      "outputs": []
    },
    {
      "cell_type": "code",
      "source": [
        "# intersection\n",
        "print(country_1.intersection(country_2))"
      ],
      "metadata": {
        "id": "jL3lMmUsVA3r"
      },
      "execution_count": null,
      "outputs": []
    },
    {
      "cell_type": "code",
      "source": [
        "print(country_1 & country_2)"
      ],
      "metadata": {
        "id": "8IBXpDY1VjRQ"
      },
      "execution_count": null,
      "outputs": []
    },
    {
      "cell_type": "code",
      "source": [
        "print(country_2.difference(country_1))\n",
        "print(country_1.difference(country_2))"
      ],
      "metadata": {
        "id": "_4uumkXxamCc"
      },
      "execution_count": null,
      "outputs": []
    },
    {
      "cell_type": "code",
      "source": [
        "set_ex = {11,22,67,54}\n",
        "output_set = 78 in set_ex\n",
        "print(output_set)"
      ],
      "metadata": {
        "id": "rxAykxqTbmzt"
      },
      "execution_count": null,
      "outputs": []
    },
    {
      "cell_type": "code",
      "source": [
        "output_set = 78 not in set_ex\n",
        "print(output_set)"
      ],
      "metadata": {
        "id": "2UBDksYkc03N"
      },
      "execution_count": null,
      "outputs": []
    },
    {
      "cell_type": "code",
      "source": [
        "# Upfating the set\n",
        "country_2 = {\"India\",'Singapore','Germany','Indonesia'}\n",
        "update_set = {'Africa','Malaysia','India'}\n",
        "country_2.update(update_set)\n",
        "print(country_2)"
      ],
      "metadata": {
        "id": "8DoB5nHqdKQ8"
      },
      "execution_count": null,
      "outputs": []
    },
    {
      "cell_type": "code",
      "source": [
        "country_2.clear()\n",
        "print(country_2)"
      ],
      "metadata": {
        "id": "Qvo8JH28ecDH"
      },
      "execution_count": null,
      "outputs": []
    },
    {
      "cell_type": "markdown",
      "source": [
        "## 4) Dictionary"
      ],
      "metadata": {
        "id": "Ln0WIGkERrMy"
      }
    },
    {
      "cell_type": "code",
      "source": [
        "# Dictionary - collection of elements, keys and values pair, key and value are separated by :.\n",
        "# it is mutable and unordered,\n",
        "# if we want to access the elements then we use key"
      ],
      "metadata": {
        "id": "bxUZclTORxBj"
      },
      "execution_count": null,
      "outputs": []
    },
    {
      "cell_type": "code",
      "source": [
        "emp_dict = {'Name':'john','age':25,'Dept':'sales'}\n",
        "print(emp_dict)"
      ],
      "metadata": {
        "id": "pE2SdWw3S8Bh"
      },
      "execution_count": null,
      "outputs": []
    },
    {
      "cell_type": "code",
      "source": [
        "print(emp_dict['Name'])"
      ],
      "metadata": {
        "id": "6xUf6VCITgRP"
      },
      "execution_count": null,
      "outputs": []
    },
    {
      "cell_type": "code",
      "source": [
        "emp_dict['age']=29\n",
        "print(emp_dict['age'])"
      ],
      "metadata": {
        "id": "OVXf0JKVToLj"
      },
      "execution_count": null,
      "outputs": []
    },
    {
      "cell_type": "code",
      "source": [
        "print(len(emp_dict))"
      ],
      "metadata": {
        "id": "cAPGNzhHUNAa"
      },
      "execution_count": null,
      "outputs": []
    },
    {
      "cell_type": "code",
      "source": [
        "key = emp_dict.keys()\n",
        "print(key)"
      ],
      "metadata": {
        "id": "mtHzq0qkUgDV"
      },
      "execution_count": null,
      "outputs": []
    },
    {
      "cell_type": "code",
      "source": [
        "emp_dict"
      ],
      "metadata": {
        "id": "YV42QH0oU6B0"
      },
      "execution_count": null,
      "outputs": []
    },
    {
      "cell_type": "code",
      "source": [
        "emp_dict = {'Name':'john','age':25,'Dept':'sales','Dept': 'HR'}\n",
        "print(emp_dict)"
      ],
      "metadata": {
        "id": "Ni25434pVNUA"
      },
      "execution_count": null,
      "outputs": []
    },
    {
      "cell_type": "code",
      "source": [
        "print(type(emp_dict))"
      ],
      "metadata": {
        "id": "RVDHdx1EVsNN"
      },
      "execution_count": null,
      "outputs": []
    },
    {
      "cell_type": "code",
      "source": [
        "emp = dict(name='Mary',age=25,id=101)\n",
        "print(emp)"
      ],
      "metadata": {
        "id": "isp-E4CwWSrY"
      },
      "execution_count": null,
      "outputs": []
    },
    {
      "cell_type": "code",
      "source": [
        "v = emp.values()\n",
        "print(v)\n",
        "print(emp.items())\n",
        "print()"
      ],
      "metadata": {
        "id": "TkUb4aDlXOWZ"
      },
      "execution_count": null,
      "outputs": []
    },
    {
      "cell_type": "code",
      "source": [
        "# Nested Dictionary\n",
        "\n",
        "Company = {'emp1':{'name':'Daniel','year':2018},\n",
        "           'emp2':{'name':'Jimmy','year':2020},\n",
        "           'emp3':{'name':'John','year':2022}}\n",
        "print(Company)"
      ],
      "metadata": {
        "id": "JFPJf0cFdja_"
      },
      "execution_count": null,
      "outputs": []
    },
    {
      "cell_type": "code",
      "source": [
        "del emp['age']\n",
        "print(emp)"
      ],
      "metadata": {
        "id": "sHUSgYXyelfu"
      },
      "execution_count": null,
      "outputs": []
    },
    {
      "cell_type": "code",
      "source": [
        "print(emp.pop('id'))"
      ],
      "metadata": {
        "id": "kpQ9rrc3feyz"
      },
      "execution_count": null,
      "outputs": []
    },
    {
      "cell_type": "code",
      "source": [
        "emp.clear()"
      ],
      "metadata": {
        "id": "nUzihm5kgC-5"
      },
      "execution_count": null,
      "outputs": []
    },
    {
      "cell_type": "code",
      "source": [
        "del emp\n",
        "print(emp)"
      ],
      "metadata": {
        "id": "A89fhpujgV3H"
      },
      "execution_count": null,
      "outputs": []
    },
    {
      "cell_type": "code",
      "source": [
        "empName = Company['emp1']['name']\n",
        "print(empName)"
      ],
      "metadata": {
        "id": "_BFw-31cgeXP"
      },
      "execution_count": null,
      "outputs": []
    },
    {
      "cell_type": "code",
      "source": [],
      "metadata": {
        "id": "KPjqx67vibex"
      },
      "execution_count": null,
      "outputs": []
    }
  ]
}